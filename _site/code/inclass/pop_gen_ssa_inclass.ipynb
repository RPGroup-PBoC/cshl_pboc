{
 "cells": [
  {
   "cell_type": "code",
   "execution_count": 1,
   "metadata": {
    "collapsed": true
   },
   "outputs": [],
   "source": [
    "# usual imports\n",
    "import numpy as np\n",
    "import matplotlib.pyplot as plt\n",
    "\n",
    "%matplotlib inline"
   ]
  },
  {
   "cell_type": "markdown",
   "metadata": {},
   "source": [
    "This script is an introduction to stochastic simulation algorithms (commonly known as Gillespie simulations in the chemical kinetics community). The function below simulates time histories of allele frequencies in populations, optionally with selection."
   ]
  },
  {
   "cell_type": "code",
   "execution_count": 27,
   "metadata": {
    "collapsed": true
   },
   "outputs": [],
   "source": [
    "def stochastic_sim_drift(pop_size, n_gen, init_freq, n_pop, selec=0):\n",
    "    \"\"\"Inputs: pop_size is # of alleles in a population\n",
    "        n_gen is # of generations to simulate\n",
    "        init_freq is initial allele frequency\n",
    "        n_pop is # of populations to run in parallel\n",
    "        Return: an n_pop by n_gen matrix of population histories\"\"\"\n",
    "    # first create 2D output array\n",
    "    frequency = np.zeros([n_pop, n_gen])\n",
    "    # initialize with input\n",
    "    frequency[:, 0] = init_freq\n",
    "    \n",
    "    # loop over parallel populations\n",
    "    for i in range(n_pop):\n",
    "        # loop over time for one population\n",
    "        for j in range(1, n_gen):\n",
    "            # flip a coin for each allele in population\n",
    "            coins = np.random.rand(pop_size)\n",
    "            # decide if each new allele is 'A' or 'a' based on \n",
    "            # frequency from prev generation\n",
    "            # superfreak is new threshold frequency\n",
    "            superfreak = frequency[i, j-1] * (1 - selec) \\\n",
    "                            / (1 - selec * frequency[i, j-1])\n",
    "            num_A = np.sum(coins < superfreak)\n",
    "\n",
    "            # calc & store new allele frequency\n",
    "            frequency[i, j] = num_A / pop_size\n",
    "    return frequency"
   ]
  },
  {
   "cell_type": "markdown",
   "metadata": {},
   "source": [
    "You can play with parameters below to estimate the time to fixation as a function of selection coefficient and population size. Theory predicts that the inverse of mean time to fixation should be proportional to selection coefficient."
   ]
  },
  {
   "cell_type": "code",
   "execution_count": 71,
   "metadata": {
    "collapsed": true
   },
   "outputs": [],
   "source": [
    "n_gen = 100\n",
    "history = stochastic_sim_drift(100, n_gen, 0.5, 100, 2e-1)"
   ]
  },
  {
   "cell_type": "code",
   "execution_count": 72,
   "metadata": {
    "collapsed": false
   },
   "outputs": [
    {
     "data": {
      "text/plain": [
       "<matplotlib.text.Text at 0x113e3c860>"
      ]
     },
     "execution_count": 72,
     "metadata": {},
     "output_type": "execute_result"
    },
    {
     "data": {
      "image/png": "[encoded data removed]",
      "text/plain": [
       "<matplotlib.figure.Figure at 0x113eff048>"
      ]
     },
     "metadata": {},
     "output_type": "display_data"
    }
   ],
   "source": [
    "time = np.arange(n_gen)\n",
    "mean_trace = np.mean(np.transpose(history), axis=1)\n",
    "_ = plt.plot(time, mean_trace)\n",
    "plt.xlabel('generation')\n",
    "plt.ylabel('allele frequency')"
   ]
  }
 ],
 "metadata": {
  "anaconda-cloud": {},
  "kernelspec": {
   "display_name": "Python [conda root]",
   "language": "python",
   "name": "conda-root-py"
  },
  "language_info": {
   "codemirror_mode": {
    "name": "ipython",
    "version": 3
   },
   "file_extension": ".py",
   "mimetype": "text/x-python",
   "name": "python",
   "nbconvert_exporter": "python",
   "pygments_lexer": "ipython3",
   "version": "3.5.1"
  }
 },
 "nbformat": 4,
 "nbformat_minor": 0
}
