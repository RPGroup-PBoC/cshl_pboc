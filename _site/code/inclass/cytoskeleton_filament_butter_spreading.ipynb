{
 "cells": [
  {
   "cell_type": "code",
   "execution_count": null,
   "metadata": {
    "collapsed": true
   },
   "outputs": [],
   "source": [
    "# the usual\n",
    "import numpy as np\n",
    "import matplotlib.pyplot as plt\n",
    "\n",
    "%matplotlib notebook\n",
    "\n",
    "# course utils for 3D plots\n",
    "import pboc_utils as pboc"
   ]
  },
  {
   "cell_type": "code",
   "execution_count": null,
   "metadata": {
    "collapsed": true
   },
   "outputs": [],
   "source": [
    "# define simulation parameters\n",
    "r = 0.9e2 # addition rate, monomers per sec\n",
    "gamma = 1e2 # degredation rate, monomers per sec\n",
    "dt = 3e-4\n",
    "tot_length = 100 # maximum polymer length, units of monomers\n",
    "tot_time = 2 # total time in sec\n",
    "num_steps = int(tot_time/dt) # total number of time steps\n",
    "\n",
    "# set up 2D matrix to store time history of probability\n",
    "prob = np.zeros((tot_length + 1, num_steps))\n",
    "\n",
    "# set initial condition\n",
    "prob[0, 0] = 1.0"
   ]
  },
  {
   "cell_type": "code",
   "execution_count": null,
   "metadata": {
    "collapsed": true
   },
   "outputs": [],
   "source": [
    "# run integration over time\n",
    "for t in range(1, num_steps):\n",
    "    # do boundaries first\n",
    "    prob[0, t] = prob[0, t-1] - r*dt*prob[0, t-1] + gamma*dt*prob[1, t-1]\n",
    "    # now handle ell = tot_length\n",
    "    prob[-1, t] = prob[-1, t-1] + r*dt*prob[-2, t-1] - gamma*dt*prob[-1, t-1]\n",
    "    # loop over polymer lengths\n",
    "    for ell in range(1, tot_length):\n",
    "        prob[ell, t] = prob[ell, t-1] + gamma*dt*prob[ell+1, t-1] \\\n",
    "                        + r*dt*prob[ell-1, t-1] - r*dt*prob[ell, t-1] \\\n",
    "                                    - gamma*dt*prob[ell, t-1]"
   ]
  },
  {
   "cell_type": "code",
   "execution_count": null,
   "metadata": {
    "collapsed": false
   },
   "outputs": [],
   "source": [
    "# set up a 3D plot\n",
    "time_vec = np.arange(0, tot_time, dt)\n",
    "pboc.bar3(prob, xlabel='time (steps)', ylabel='polymer length (monomers)',\n",
    "          zlabel='P(l, t)', bin_step=int(num_steps/30), y_vec=time_vec)"
   ]
  },
  {
   "cell_type": "markdown",
   "metadata": {
    "collapsed": true
   },
   "source": [
    "See polished version on course website for more."
   ]
  }
 ],
 "metadata": {
  "anaconda-cloud": {},
  "kernelspec": {
   "display_name": "Python [conda root]",
   "language": "python",
   "name": "conda-root-py"
  },
  "language_info": {
   "codemirror_mode": {
    "name": "ipython",
    "version": 3
   },
   "file_extension": ".py",
   "mimetype": "text/x-python",
   "name": "python",
   "nbconvert_exporter": "python",
   "pygments_lexer": "ipython3",
   "version": "3.5.1"
  }
 },
 "nbformat": 4,
 "nbformat_minor": 0
}
