{
 "cells": [
  {
   "cell_type": "code",
   "execution_count": null,
   "metadata": {
    "collapsed": false
   },
   "outputs": [],
   "source": [
    "# Import the necessary modules.\n",
    "import numpy as np\n",
    "import matplotlib.pyplot as plt\n",
    "\n",
    "# Image processing utilities\n",
    "import skimage.io\n",
    "import skimage.morphology\n",
    "import skimage.filters\n",
    "\n",
    "%matplotlib inline"
   ]
  },
  {
   "cell_type": "markdown",
   "metadata": {},
   "source": [
    "In this script, we'll learn some basic facts about images, how to read them\n",
    "in Python, and the basic principles of thresholding. On the course website, you will find a large image set\n",
    "that we will use for the whole project. Before we begin, let's talk a bit\n",
    "about the nature of the image set.\n",
    "\n",
    "These images are of *E. coli* cells with a variety of different copy numbers\n",
    "of the LacI repressor molecule. This set is composed of three different LacO\n",
    "sequences (O1, O2, and O3), and a variety of different repressor copy numbers\n",
    "(indicated by the `R` in the image file name).  In these strains (and the\n",
    "`wt` strain), the LacI repressor molecule represses the expression of a\n",
    "Yellow Fluorescent Protein molecule. With more repressor around, less YFP\n",
    "molecules are made. There are three strains without an `R` label. These are\n",
    "`auto` which is expressing no YFP at all, `delta` which is constitutively\n",
    "expressing YFP (has no repressors), and `wt` which has the wild-type number\n",
    "of LacI repressors, 22 per cell.\n",
    "\n",
    "In our project, we will quantify the fold-change in gene expression under\n",
    "different repressor copy numbers. To do so, we will need to make measurements\n",
    "of the single-cell fluorescence intensities in our images. We'll start by\n",
    "learning about images and how to process them in the Python programming\n",
    "language.\n",
    "\n",
    "It is important to remember that an image is nothing but data -- it is an\n",
    "array of points with a specific value. These points are called 'pixels'. The\n",
    "values that these pixels can take is related to the construction of the\n",
    "camera and is measured as 'bit depth'. To determine the range of pixel\n",
    "values in an $N$ bit image ca take, we simply need to compute $2^N - 1$. This\n",
    "subtraction of 1 is because 0 can be a pixel value as well. For example,\n",
    "a 16-bit image can have pixels on the range of $0 \\rightarrow (2^16 -1 ) = 0 \\rightarrow 65535$.\n",
    "Let's begin by loading an example image into Python."
   ]
  },
  {
   "cell_type": "code",
   "execution_count": null,
   "metadata": {
    "collapsed": false,
    "scrolled": false
   },
   "outputs": [],
   "source": [
    "# load an image\n",
    "dir_prefix = '/Users/muir/datasets/2017cshl_pboc/lacI_titration'\n",
    "image = skimage.io.imread(dir_prefix + '/O2_delta_phase_pos_16.tif')\n",
    "_, ax = plt.subplots(figsize=(10,10))\n",
    "ax.imshow(image, cmap=plt.cm.Greys_r)"
   ]
  },
  {
   "cell_type": "markdown",
   "metadata": {},
   "source": [
    "We see that bacterial cells are black against a light colored background.\n",
    "We can see\n",
    "the pixels within the bacerium are lower than those of the background. We\n",
    "could select only the pixels of the bacterium by drawing a threshold at some\n",
    "value and saying anything below that value is 'bacterial'. To figure out\n",
    "what this threshold should be, we can look at the image histogram and pick a\n",
    "value."
   ]
  },
  {
   "cell_type": "code",
   "execution_count": null,
   "metadata": {
    "collapsed": false
   },
   "outputs": [],
   "source": [
    "fig, ax = plt.subplots(figsize=(12,6))\n",
    "ax.hist(image.flatten(), bins=300)\n",
    "ax.set_yscale('log')\n",
    "ax.set_xlabel('pixel value')\n",
    "ax.set_ylabel('frequency')\n",
    "ax.grid(True)"
   ]
  },
  {
   "cell_type": "markdown",
   "metadata": {},
   "source": [
    "We can clearly see two humps in this image. The left most hump contains the pixels\n",
    "within our bacterial cells while the major hump are the pixels of the\n",
    "background. One could imagine selecting only the bacteria in this image\n",
    "by choosing a threshold value between these two peaks and identifying any\n",
    "pixel below this threshold as bacterial. Looking at the histogram, we can\n",
    "choose a threshold of around 2500 counts."
   ]
  },
  {
   "cell_type": "code",
   "execution_count": null,
   "metadata": {
    "collapsed": false
   },
   "outputs": [],
   "source": [
    "im_thresh = image < 2500\n",
    "_, ax = plt.subplots(figsize=(10,10))\n",
    "ax.imshow(im_thresh, cmap=plt.cm.Greys_r)"
   ]
  },
  {
   "cell_type": "markdown",
   "metadata": {},
   "source": [
    "This seems to do a pretty good job at separating the cells from the\n",
    "background, but it is really dependent on the actual values recorded by the\n",
    "camera. These values can vary from sample to sample in an experiment. However, the ratio of the cell interior to the background should be\n",
    "much less variable. Let's convert this image to a float (values ranging\n",
    "between 0 and 1), choose a new threshold, and replot the new mask."
   ]
  },
  {
   "cell_type": "code",
   "execution_count": null,
   "metadata": {
    "collapsed": false
   },
   "outputs": [],
   "source": [
    "# normalize image\n",
    "im_float = (image - image.min()) / (image.max() - image.min())\n",
    "# plot histogram of normalized intensities\n",
    "_, ax = plt.subplots(figsize=(12,6))\n",
    "ax.hist(im_float.flatten(), bins=300)\n",
    "ax.vlines(0.28, 1e0, 3e3)\n",
    "ax.set_xlabel('normalized pixel count')\n",
    "ax.set_ylabel('counts')\n",
    "ax.set_yscale('log')\n",
    "\n",
    "im_float_thresh = im_float < 0.28\n",
    "_, ax2 = plt.subplots(figsize=(10,10))\n",
    "ax2.imshow(im_float_thresh, cmap=plt.cm.Greys_r)"
   ]
  },
  {
   "cell_type": "markdown",
   "metadata": {},
   "source": [
    "Why are we getting so much of the background in our segmentation? This is\n",
    "because the illumination of the image is not uniform. We can see that the\n",
    "lefthand side of the image is darker than that on the right. We can easily\n",
    "correct for that by performing a background subtraction. To do so, we will\n",
    "very heavily blur the image and subtract it from the original. This will\n",
    "remove any large scale aberrations in the intensity of the image leaving\n",
    "small scale features (such as bacteria) alone. Let's go a head and give it\n",
    "a shot."
   ]
  },
  {
   "cell_type": "code",
   "execution_count": null,
   "metadata": {
    "collapsed": true
   },
   "outputs": [],
   "source": [
    "# carry out background subtraction\n",
    "blur_radius = 50.0 # in units of pixels\n",
    "im_blur = skimage.filters.gaussian(im_float, sigma=blur_radius)\n",
    "im_sub = im_float - im_blur"
   ]
  },
  {
   "cell_type": "markdown",
   "metadata": {},
   "source": [
    "Let's show the original image, the blurred image, and the background subtracted image side-by-side."
   ]
  },
  {
   "cell_type": "code",
   "execution_count": null,
   "metadata": {
    "collapsed": false
   },
   "outputs": [],
   "source": [
    "fix, ax = plt.subplots(1,3, figsize=(12,6))\n",
    "ax[0].imshow(im_float)\n",
    "ax[1].imshow(im_blur)\n",
    "ax[2].imshow(im_sub)"
   ]
  },
  {
   "cell_type": "markdown",
   "metadata": {},
   "source": [
    "Much better. Let's do the rethresholding dance one last time."
   ]
  },
  {
   "cell_type": "code",
   "execution_count": null,
   "metadata": {
    "collapsed": false
   },
   "outputs": [],
   "source": [
    "_, (ax1, ax2) = plt.subplots(2, 1, figsize=(9,15))\n",
    "# plot histogram of normalized intensities\n",
    "ax1.hist(im_sub.flatten(), bins=300)\n",
    "ax1.vlines(-0.21, 1e0, 3e3)\n",
    "ax1.set_xlabel('normalized pixel count')\n",
    "ax1.set_ylabel('counts')\n",
    "ax1.set_yscale('log')\n",
    "# choose threshold and plot image\n",
    "im_sub_thresh = im_sub < -0.21\n",
    "ax2.imshow(im_sub_thresh, cmap=plt.cm.Greys_r)"
   ]
  },
  {
   "cell_type": "markdown",
   "metadata": {},
   "source": [
    "Not too shabby, but we are still picking up some garbage in the\n",
    "background. We could remove this by only selecting cells that meet a certain\n",
    "area threshold, but how can we compute the area of each cell? Right now, all\n",
    "pixels that are deemed to be \"bacterial\" are labeled as 1.0. To the computer\n",
    "these are all the same object. We can individually label our segmented cells\n",
    "by using the `skimage.measure.label` function, which will individually label\n",
    "islands of pixels. In other words, every connected island of pixels will be assigned a unique value in the returned image."
   ]
  },
  {
   "cell_type": "code",
   "execution_count": null,
   "metadata": {
    "collapsed": false
   },
   "outputs": [],
   "source": [
    "im_lab, num_obj = skimage.measure.label(im_sub_thresh, return_num=True)\n",
    "print('We segmented ' + str(num_obj) + ' objects.')"
   ]
  },
  {
   "cell_type": "markdown",
   "metadata": {},
   "source": [
    "That is definitely more objects than I want to count by eye! But wait, let's see what the labeled image looks like before continuing:"
   ]
  },
  {
   "cell_type": "code",
   "execution_count": null,
   "metadata": {
    "collapsed": false
   },
   "outputs": [],
   "source": [
    "plt.imshow(im_lab, cmap=plt.cm.spectral_r)\n",
    "plt.colorbar()"
   ]
  },
  {
   "cell_type": "markdown",
   "metadata": {},
   "source": [
    "Looking at the above image, we see that there are far more segmented objects\n",
    "than there are actual cells. This is because we are segmenting some of the\n",
    "pixels in the background of the images. \n",
    "\n",
    "Our next task will be to separate the actual cells from the imposters. We imagined that we could get rid of these pixels by slecting objects wihch meet a set of area bounds. Before we apply any bounds, let's just look at the areas of all of the cells in our image. It will be easier to work in physical units (microns) rather than arbitrarily sized pixels, so we will convert using the known interpixel spacing. We will use the enormously powerful `regionprops` function to compute areas of every segmented object, then loop through again and remove any that fail our area screen. (See the docs for more on `regionprops`)."
   ]
  },
  {
   "cell_type": "code",
   "execution_count": null,
   "metadata": {
    "collapsed": true
   },
   "outputs": [],
   "source": [
    "# The interpixel distance\n",
    "ip_dist = 0.16 # units of um/pixel\n",
    "# Define a list to store areas of (putative) cells\n",
    "area = []\n",
    "# props is an iterable object. It stores, among many things, area of each object.\n",
    "props = skimage.measure.regionprops(im_lab)\n",
    "# Loop through and extract areas of objects\n",
    "for labeled_obj in props:\n",
    "    area.append(labeled_obj.area * ip_dist**2)"
   ]
  },
  {
   "cell_type": "markdown",
   "metadata": {},
   "source": [
    "Let's plot the distribution of cell areas."
   ]
  },
  {
   "cell_type": "code",
   "execution_count": null,
   "metadata": {
    "collapsed": false
   },
   "outputs": [],
   "source": [
    "# make a histogram of cell areas\n",
    "plt.hist(area, bins=int(np.sqrt(num_obj)))\n",
    "plt.xlabel('object area (sq. micron)')\n",
    "plt.ylabel('counts')\n",
    "plt.yscale('log')"
   ]
  },
  {
   "cell_type": "markdown",
   "metadata": {},
   "source": [
    "What would some good bounds\n",
    "be? Our rule-of-thumb is that *E. coli* is about 2 microns long by one-half to one micron wide. If we approximate our cell as a rectangle, this gets us to an area of\n",
    "1 or 2 sq micron. Of course, not all of our cells are ideal. We see in our histogram that we have some distribution between  about 1.5 - 3.5 square micron. There is another distribution of junk that is much smaller than our bounds. Let's filter out those objects and see what we catch.\n",
    "\n",
    "The logic here is tricky. First we create a blank image sized like our original. Then, for each putative cell, compute its area (in $\\mu$m$^2$). Then ask if its area is between our cutoffs. If so, find all pixels in the original (*labeled*) image that match our current objects label, and set those pixels to 1 in the new image (we must use `+=` rather than `=` so we don't disturb any other pixels in the new image, as using `=` would)."
   ]
  },
  {
   "cell_type": "code",
   "execution_count": null,
   "metadata": {
    "collapsed": true
   },
   "outputs": [],
   "source": [
    "approved_obj = np.zeros_like(im_lab)\n",
    "for labeled_obj in props:\n",
    "    obj_area = labeled_obj.area * ip_dist**2\n",
    "    if (obj_area > 1.0) & (obj_area < 4):\n",
    "        approved_obj += (im_lab == labeled_obj.label)"
   ]
  },
  {
   "cell_type": "code",
   "execution_count": null,
   "metadata": {
    "collapsed": false
   },
   "outputs": [],
   "source": [
    "# Plot the area-screened image and see how we did\n",
    "_, ax = plt.subplots(figsize=(10,10))\n",
    "ax.imshow(approved_obj, cmap=plt.cm.Greys_r)"
   ]
  }
 ],
 "metadata": {
  "anaconda-cloud": {},
  "kernelspec": {
   "display_name": "Python [conda root]",
   "language": "python",
   "name": "conda-root-py"
  },
  "language_info": {
   "codemirror_mode": {
    "name": "ipython",
    "version": 3
   },
   "file_extension": ".py",
   "mimetype": "text/x-python",
   "name": "python",
   "nbconvert_exporter": "python",
   "pygments_lexer": "ipython3",
   "version": "3.5.1"
  }
 },
 "nbformat": 4,
 "nbformat_minor": 0
}
