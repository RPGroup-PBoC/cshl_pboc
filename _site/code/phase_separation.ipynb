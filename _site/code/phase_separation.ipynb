{
 "cells": [
  {
   "cell_type": "code",
   "execution_count": null,
   "metadata": {
    "collapsed": true
   },
   "outputs": [],
   "source": [
    "# Import the necessary modules.\n",
    "import numpy as np\n",
    "import matplotlib.pyplot as plt\n",
    "%matplotlib inline"
   ]
  },
  {
   "cell_type": "markdown",
   "metadata": {},
   "source": [
    "In this script, we will explore the dynamics of phase transitions in a\n",
    "two component mixture. We discussed two models in class -- the Regular\n",
    "Solution theory and the Flory-Huggins Theory."
   ]
  },
  {
   "cell_type": "markdown",
   "metadata": {},
   "source": [
    "#### Regular Solution theory\n",
    "The regulular solution describes a mixture of componnents in which each\n",
    "individual molecule occupies only one lattice site in our closed system.\n",
    "We can define the probability of observing like-bonded molecules as $\\phi$.\n",
    "We can also include the Flory parameter which describes the energy of mixing\n",
    "the two species. The full description of the regular solution theory\n",
    "description of the free energy is\n",
    "\\begin{align}\n",
    "\\frac{\\text{free-energy}}{k_BT} = 2\\chi\\phi(1 - \\phi) + \\phi\\log(\\phi)\n",
    "                                    + (1-\\phi)\\log(\\phi)\n",
    "\\end{align}\n",
    "where $\\chi$ is the flory parameter. Let's see how varying this parameter\n",
    "influences the phases of the system."
   ]
  },
  {
   "cell_type": "code",
   "execution_count": null,
   "metadata": {
    "collapsed": false
   },
   "outputs": [],
   "source": [
    "# We'll set up our parameters.\n",
    "offset = 1e-4 # to avoid log(0) at boundaries\n",
    "phi = np.linspace(0 + offset, 1 - offset, 500)\n",
    "chi = [-0.1, 0.1, 0.5, 0.8, 1, 1.25, 1.5, 2]\n",
    "\n",
    "# We'll compute the value at each chi and plot it at once.\n",
    "_, ax = plt.subplots(figsize=(5,10))\n",
    "for x in chi:\n",
    "    # Calculate the free energy\n",
    "    free_energy = 2 * x * phi * (1 - phi) + phi * np.log(phi) \\\n",
    "                    + (1 - phi) * np.log(1 - phi)\n",
    "    ax.plot(phi, free_energy, label='$\\chi$ = ' + str(x))\n",
    "\n",
    "# Of course we should add labels.\n",
    "ax.set_xlabel('$\\phi$')\n",
    "ax.set_ylabel(r'$\\frac{F(\\phi)}{k_BT}$')\n",
    "ax.legend()"
   ]
  },
  {
   "cell_type": "markdown",
   "metadata": {},
   "source": [
    "We see that at the intermediate values of X , there are now multiple local\n",
    "minima where phases will separate."
   ]
  },
  {
   "cell_type": "markdown",
   "metadata": {},
   "source": [
    "#### Flory-Huggins Theory\n",
    "\n",
    "Now we can consider a case in which we are mixing together polymers. In this\n",
    "case, the polymers now occupy several different lattice sites. The result for\n",
    "the free energy of the system is given by the Flory-Huggins theory,\n",
    "\\begin{align}\n",
    "\\frac{\\text{free-energy}}{k_BT} = 2\\chi\\phi(1-\\phi) + \\frac{\\phi}{L}\\log(\\phi) \n",
    "                                                  + (1-\\phi) \\log(1-\\phi)\n",
    "\\end{align}\n",
    "where L is the degree of polymerization, essentially just the length of the\n",
    "polymer."
   ]
  },
  {
   "cell_type": "code",
   "execution_count": null,
   "metadata": {
    "collapsed": false
   },
   "outputs": [],
   "source": [
    "L = 100 # Degree of polymerization\n",
    "\n",
    "# Now we'll do the same iteration of x and  plot the free energy.\n",
    "_, ax = plt.subplots(figsize=(5,5))\n",
    "for x in chi:\n",
    "    # Calculate the free energy.\n",
    "    free_energy = 2 * x * phi * (1 - phi) + (phi / L) * np.log(phi) +\\\n",
    "            (1 - phi) * np.log(1 - phi)\n",
    "    # Plot it!\n",
    "    ax.plot(phi, free_energy, label='$\\chi$ = ' + str(x))\n",
    "\n",
    "ax.set_xlabel('$\\phi$')\n",
    "ax.set_ylabel(r'$\\frac{F(\\phi)}{k_BT}$')\n",
    "ax.legend()"
   ]
  },
  {
   "cell_type": "markdown",
   "metadata": {},
   "source": [
    "We now see that there is a degree of nonsymmetry when compared to the\n",
    "regular solution theory. This significantly changes the way that\n",
    "phases separate."
   ]
  }
 ],
 "metadata": {
  "anaconda-cloud": {},
  "kernelspec": {
   "display_name": "Python [conda root]",
   "language": "python",
   "name": "conda-root-py"
  },
  "language_info": {
   "codemirror_mode": {
    "name": "ipython",
    "version": 3
   },
   "file_extension": ".py",
   "mimetype": "text/x-python",
   "name": "python",
   "nbconvert_exporter": "python",
   "pygments_lexer": "ipython3",
   "version": "3.5.1"
  }
 },
 "nbformat": 4,
 "nbformat_minor": 0
}
