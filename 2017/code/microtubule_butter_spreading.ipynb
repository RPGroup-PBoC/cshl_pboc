{
 "cells": [
  {
   "cell_type": "code",
   "execution_count": null,
   "metadata": {
    "collapsed": true
   },
   "outputs": [],
   "source": [
    "# the usual\n",
    "import numpy as np\n",
    "import matplotlib.pyplot as plt\n",
    "import scipy.special\n",
    "\n",
    "%matplotlib notebook\n",
    "\n",
    "# course utils for 3D plots\n",
    "import pboc_utils as pboc"
   ]
  },
  {
   "cell_type": "markdown",
   "metadata": {},
   "source": [
    "In this script, we will look at the distribution of polymer lengths under\n",
    "some different types of regulation. We will first think of some cytoskeletal\n",
    "polymer growing in an unlimited pool of available monomers (tubulin dimers)\n",
    "and the case in which the shortening of the polymer is dependent on the total\n",
    "length."
   ]
  },
  {
   "cell_type": "markdown",
   "metadata": {},
   "source": [
    "#### Length - independent decay rate\n",
    "At first we'll assume that the production\n",
    "rate and the depoymerization rate are independent of length. Our master\n",
    "equation becomes\n",
    "\\begin{align}\n",
    " P(l, t + dt) = P(l, t) + (rdt) P(l-1, t) + (\\gamma dt) P(l+1, t) \n",
    "                 - (r dt) P(l, t) - (\\gamma dt) P(l, t)\n",
    "\\end{align}\n",
    "\n",
    "where $l$ is the length of the polymer, $t$ is the time, $dt$ is the timestep, $r$\n",
    "is the growth rate of the polymer, and $\\gamma$ is the depolymerization rate.\n",
    "\n",
    "To begin, we'll define and initialize a set of parameters and run \"spread the butter\" integration as we have before."
   ]
  },
  {
   "cell_type": "code",
   "execution_count": null,
   "metadata": {
    "collapsed": false
   },
   "outputs": [],
   "source": [
    "r = 5  # addition rate in monomers per time\n",
    "gamma = 6  # Degradation rate in monomers per time\n",
    "dt = 0.01 # Time step for butter spreading.\n",
    "tot_length = 30  # Maximum polymer length\n",
    "tot_time = 2000   # Time to integrate in time steps\n",
    "\n",
    "# Set up the two-dimensional matrix of probabilities.\n",
    "prob = np.zeros((tot_length + 1, tot_time))\n",
    "\n",
    "# Set our initial condition.\n",
    "prob[0, 0] = 1.0\n",
    "\n",
    "# Start the integration over time\n",
    "for t in range(1, tot_time):\n",
    "    # handle the boundaries, first l=0\n",
    "    prob[0, t] = prob[0, t-1] - r*dt*prob[0, t-1] + gamma*dt*prob[1, t-1]\n",
    "    # then l=tot_length\n",
    "    prob[-1, t] = prob[-1, t-1] + r*dt*prob[-2, t-1] - gamma*dt*prob[-1, t-1]\n",
    "    # loop over polymer lengths\n",
    "    for ell in range(1, tot_length - 1):\n",
    "        # update master equation step.\n",
    "        prob[ell, t] = prob[ell, t-1] + gamma*dt*prob[ell+1, t-1] \\\n",
    "                            + r*dt*prob[ell-1, t-1] - r*dt*prob[ell, t-1] \\\n",
    "                                        - gamma*dt*prob[ell, t-1]"
   ]
  },
  {
   "cell_type": "code",
   "execution_count": null,
   "metadata": {
    "collapsed": false
   },
   "outputs": [],
   "source": [
    "# Now we'll show the plot in three dimensions.\n",
    "pboc.bar3(prob, xlabel='time (steps)', ylabel='polymer length in monomers',\n",
    "          zlabel='P(l, t)', bin_step=int(tot_time/30))"
   ]
  },
  {
   "cell_type": "code",
   "execution_count": null,
   "metadata": {
    "collapsed": false
   },
   "outputs": [],
   "source": [
    "# 2D plot of a few time slices\n",
    "n_slices = 5\n",
    "slice_int = int(tot_time/n_slices)\n",
    "len_array = np.arange(tot_length+1)\n",
    "# mean length\n",
    "mean_ell = r/gamma\n",
    "\n",
    "# set up plots\n",
    "_, ax = plt.subplots(figsize=(7,7))\n",
    "ax.set_xlabel('polymer length')\n",
    "ax.set_ylabel('probability of polymer length')\n",
    "# steady state theory prediction\n",
    "ax.plot(len_array, mean_ell**len_array * (1 - mean_ell), '.')\n",
    "# loop over time slices and plot\n",
    "for t in range(slice_int, tot_time, slice_int):\n",
    "    _ = ax.plot(len_array, prob[:,t], label='time = '+str(t))"
   ]
  },
  {
   "cell_type": "markdown",
   "metadata": {},
   "source": [
    "#### Length - dependent degredation rate\n",
    "Now, let's look at the case in which gamma is dependent on the length of the\n",
    "polymer. In essence, this means that we now can redfine gamma as some\n",
    "constant times the length of the polymer."
   ]
  },
  {
   "cell_type": "code",
   "execution_count": null,
   "metadata": {
    "collapsed": true
   },
   "outputs": [],
   "source": [
    "r = 0.7  # addition rate in monomers per time\n",
    "gamma = 0.3  # Degradation rate in monomers per time\n",
    "\n",
    "# Set up the two-dimensional matrix of probabilities.\n",
    "prob = np.zeros((tot_length + 1, tot_time))\n",
    "\n",
    "# Set our initial condition. nonzero just for fun.\n",
    "prob[20, 0] = 1.0\n",
    "\n",
    "# Start the integration over time\n",
    "for t in range(1, tot_time):\n",
    "    # handle the boundaries, first l=0\n",
    "    prob[0, t] = prob[0, t-1] - r*dt*prob[0, t-1] + gamma*dt*prob[1, t-1]\n",
    "    # then l=tot_length\n",
    "    prob[-1, t] = prob[-1, t-1] + r*dt*prob[-2, t-1] \\\n",
    "                    - gamma*(tot_length)*dt*prob[-1, t-1]\n",
    "    # loop over polymer lengths\n",
    "    for ell in range(1, tot_length - 1):\n",
    "        # update master equation step.\n",
    "        prob[ell, t] = prob[ell, t-1] + gamma*(ell+1)*dt*prob[ell+1, t-1] \\\n",
    "                            + r*dt*prob[ell-1, t-1] - r*dt*prob[ell, t-1] \\\n",
    "                                        - gamma*(ell)*dt*prob[ell, t-1]"
   ]
  },
  {
   "cell_type": "code",
   "execution_count": null,
   "metadata": {
    "collapsed": false
   },
   "outputs": [],
   "source": [
    "# Now we'll show the plot in three dimensions.\n",
    "pboc.bar3(prob, xlabel='time (steps)', ylabel='polymer length in monomers',\n",
    "          zlabel='P(l, t)', bin_step=int(tot_time/30))"
   ]
  },
  {
   "cell_type": "markdown",
   "metadata": {},
   "source": [
    "Let's again do a 2D plot of some time slices, including the analytical steady-state distribution (Poisson, as derived in lecture)."
   ]
  },
  {
   "cell_type": "code",
   "execution_count": null,
   "metadata": {
    "collapsed": false
   },
   "outputs": [],
   "source": [
    "# 2D plot, with steady-state prediction\n",
    "# first compute Poisson prediction\n",
    "predicted_dist = (r / gamma)**len_array * np.exp(-r/gamma) \\\n",
    "                   * (1 / scipy.special.gamma(len_array+1))\n",
    "# set up plotting environment\n",
    "_, ax = plt.subplots(figsize=(6,6))\n",
    "# plot analytical steady-state distribution\n",
    "ax.plot(len_array, predicted_dist, '.', label='Poisson')\n",
    "# loop over time slices and plot\n",
    "for t in range(slice_int, tot_time, slice_int):\n",
    "    _ = ax.plot(len_array, prob[:,t], label='time = '+str(t))\n",
    "ax.legend()"
   ]
  }
 ],
 "metadata": {
  "anaconda-cloud": {},
  "kernelspec": {
   "display_name": "Python [conda root]",
   "language": "python",
   "name": "conda-root-py"
  },
  "language_info": {
   "codemirror_mode": {
    "name": "ipython",
    "version": 3
   },
   "file_extension": ".py",
   "mimetype": "text/x-python",
   "name": "python",
   "nbconvert_exporter": "python",
   "pygments_lexer": "ipython3",
   "version": "3.5.1"
  }
 },
 "nbformat": 4,
 "nbformat_minor": 0
}
